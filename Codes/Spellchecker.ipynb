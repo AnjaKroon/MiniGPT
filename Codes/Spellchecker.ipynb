{
 "cells": [
  {
   "cell_type": "code",
   "execution_count": null,
   "id": "953db2f9",
   "metadata": {},
   "outputs": [],
   "source": [
    "# @title Standaard titeltekst\n",
    "!pip install nltk\n",
    "!pip install pyspellchecker \n",
    "#!pip install language_tool_python"
   ]
  },
  {
   "cell_type": "code",
   "execution_count": null,
   "id": "16bd058c",
   "metadata": {},
   "outputs": [],
   "source": [
    "from spellchecker import SpellChecker"
   ]
  },
  {
   "cell_type": "code",
   "execution_count": null,
   "id": "2cc0ed95",
   "metadata": {},
   "outputs": [],
   "source": [
    "# Read the contents of the file\n",
    "with open('input.txt', 'r') as file:\n",
    "    text = file.read()\n"
   ]
  },
  {
   "cell_type": "code",
   "execution_count": null,
   "id": "820a1c96",
   "metadata": {
    "scrolled": true
   },
   "outputs": [],
   "source": [
    "def calculate_misspelled_percentage(text_to_check_path):\n",
    "    spell = SpellChecker()\n",
    "\n",
    "    with open(text_to_check_path, 'r') as file:\n",
    "        text = file.read()\n",
    "    \n",
    "    words = text.split()\n",
    "    misspelled = spell.unknown(words)\n",
    "\n",
    "    total_words = len(words)\n",
    "    misspelled_count = len(misspelled)\n",
    "    \n",
    "    #for word in misspelled:\n",
    "    #    print(f\"Misspelled: {word} -> Suggestion: {spell.correction(word)}\")\n",
    "    \n",
    "    if total_words > 0:\n",
    "        correct_count = total_words - misspelled_count\n",
    "        misspelled_percentage = (misspelled_count / total_words) * 100\n",
    "        correct = 100 - misspelled_percentage\n",
    "        print(f\"Percentage of Correctly Spelled Words: {correct:.2f}%\")\n",
    "    else:\n",
    "        print(\"The file is empty or no words to check.\")\n",
    "    return correct_count\n",
    "\n",
    "baseline_correct = calculate_misspelled_percentage('input.txt')\n",
    "generated_correct = calculate_misspelled_percentage('Generated.txt')        # CHANGE TO GENERATED TXT FILE\n",
    "\n",
    "# \"manage\" there being old english by normalizing by the baseline correctness\n",
    "# maybe also add words which are one removed from an actual english word like levinstein distance?\n",
    "# will see if that is per se needed\n",
    "# don't forget to normalize with the baseline text"
   ]
  },
  {
   "cell_type": "code",
   "execution_count": 1,
   "id": "c57102ec",
   "metadata": {},
   "outputs": [
    {
     "ename": "NameError",
     "evalue": "name 'calculate_misspelled_percentage' is not defined",
     "output_type": "error",
     "traceback": [
      "\u001b[1;31m---------------------------------------------------------------------------\u001b[0m",
      "\u001b[1;31mNameError\u001b[0m                                 Traceback (most recent call last)",
      "\u001b[1;32m~\\AppData\\Local\\Temp\\ipykernel_23640\\1812626533.py\u001b[0m in \u001b[0;36m<module>\u001b[1;34m\u001b[0m\n\u001b[1;32m----> 1\u001b[1;33m \u001b[0mcalculate_misspelled_percentage\u001b[0m\u001b[1;33m(\u001b[0m\u001b[1;34m'Generated.txt'\u001b[0m\u001b[1;33m)\u001b[0m\u001b[1;33m\u001b[0m\u001b[1;33m\u001b[0m\u001b[0m\n\u001b[0m",
      "\u001b[1;31mNameError\u001b[0m: name 'calculate_misspelled_percentage' is not defined"
     ]
    }
   ],
   "source": [
    "calculate_misspelled_percentage('Generated.txt')"
   ]
  }
 ],
 "metadata": {
  "kernelspec": {
   "display_name": "Python 3 (ipykernel)",
   "language": "python",
   "name": "python3"
  },
  "language_info": {
   "codemirror_mode": {
    "name": "ipython",
    "version": 3
   },
   "file_extension": ".py",
   "mimetype": "text/x-python",
   "name": "python",
   "nbconvert_exporter": "python",
   "pygments_lexer": "ipython3",
   "version": "3.9.13"
  }
 },
 "nbformat": 4,
 "nbformat_minor": 5
}
