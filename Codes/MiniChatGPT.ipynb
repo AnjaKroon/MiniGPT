{
 "cells": [
  {
   "cell_type": "code",
   "execution_count": null,
   "metadata": {
    "id": "4CdixUKjaGil",
    "scrolled": false
   },
   "outputs": [],
   "source": [
    "# @title Standaard titeltekst\n",
    "%pip install tiktoken\n",
    "%pip install --upgrade tiktoken\n",
    "%pip install --upgrade openai"
   ]
  },
  {
   "cell_type": "code",
   "execution_count": null,
   "metadata": {
    "colab": {
     "base_uri": "https://localhost:8080/"
    },
    "id": "GUQlx9cHa0eL",
    "outputId": "30e9d1cf-4c2f-4afe-a176-75cd326c0b24",
    "scrolled": true
   },
   "outputs": [],
   "source": [
    "# Import relevant packages\n",
    "import torch\n",
    "import torch.nn as nn\n",
    "from torch.nn import functional as F\n",
    "from itertools import islice\n",
    "import math\n",
    "import tiktoken\n",
    "from datetime import datetime"
   ]
  },
  {
   "cell_type": "code",
   "execution_count": null,
   "metadata": {
    "scrolled": true
   },
   "outputs": [],
   "source": [
    "#Type of tokenizer BPE = 0, Char = 1, Words = 2\n",
    "Tokenizer = 0"
   ]
  },
  {
   "cell_type": "code",
   "execution_count": null,
   "metadata": {
    "scrolled": true
   },
   "outputs": [],
   "source": [
    "# hyperparameters\n",
    "batch_size = 8 # how many independent sequences will we process in parallel?\n",
    "block_size = 32 # what is the maximum context length for predictions?\n",
    "max_iters = 5000\n",
    "eval_interval = 500\n",
    "learning_rate = 3e-4\n",
    "# Wrap the model with DataParallel to use multiple GPUs\n",
    "device = torch.device(\"cuda\" if torch.cuda.is_available() else \"cpu\")\n",
    "#device = 'cuda' if torch.cuda.is_available() else 'cpu'\n",
    "eval_iters = 200\n",
    "n_embd = 64\n",
    "n_head = 8\n",
    "n_layer = 8\n",
    "dropout = 0.2\n",
    "# -------------\n",
    "\n",
    "train_val_split = 0.9\n",
    "\n",
    "torch.manual_seed(3495)"
   ]
  },
  {
   "cell_type": "code",
   "execution_count": null,
   "metadata": {
    "colab": {
     "base_uri": "https://localhost:8080/"
    },
    "id": "Xr4MVzniaR9_",
    "outputId": "fd476a69-c89a-4d54-9083-83a6837d353f",
    "scrolled": true
   },
   "outputs": [],
   "source": [
    "\n",
    "# Load data\n",
    "#!wget https://raw.githubusercontent.com/karpathy/char-rnn/master/data/tinyshakespeare/input.txt\n",
    "\n",
    "with open(\"JoeRoganExperience1139Jordan Peterson.txt\", \"r\") as text_file:\n",
    "    input_text = text_file.read()\n"
   ]
  },
  {
   "cell_type": "code",
   "execution_count": null,
   "metadata": {
    "scrolled": true
   },
   "outputs": [],
   "source": [
    "if Tokenizer == 0: \n",
    "\n",
    "    encoding = tiktoken.get_encoding(\"cl100k_base\")\n",
    "    encoding = tiktoken.encoding_for_model(\"gpt-4\")\n",
    "    def num_tokens_from_string(string: str, encoding_name: str) -> int:\n",
    "        \"\"\"Returns the number of tokens in a text string.\"\"\"\n",
    "        encoding = tiktoken.get_encoding(encoding_name)\n",
    "        num_tokens = len(encoding.encode(string))\n",
    "        return num_tokens\n",
    "    vocab_size = num_tokens_from_string(input_text, \"cl100k_base\")\n",
    "\n",
    "    \n",
    "elif Tokenizer == 1:\n",
    "    \n",
    "    class simpleTokenizer:\n",
    "        # Class inherently has two lists, encoded and decoded, used internally\n",
    "        def __init__(self):\n",
    "            self.char_to_emb = {}\n",
    "            self.emb_to_char = {}\n",
    "    \n",
    "        # When fit() called on a text, get all characters in that text\n",
    "        def fit(self, text):\n",
    "            unique_chars = set(text)\n",
    "            for i, char in enumerate(sorted(unique_chars)):\n",
    "                self.char_to_emb[char] = i\n",
    "                self.emb_to_char[i] = char\n",
    "    \n",
    "        def encode(self, text):\n",
    "            return [self.char_to_emb.get(char, -1) for char in text]\n",
    "    \n",
    "        def decode(self, embeddings):\n",
    "            return ''.join(self.emb_to_char.get(emb, '') for emb in embeddings)\n",
    "    \n",
    "    encoding = simpleTokenizer()\n",
    "    encoding.fit(input_text)\n",
    "    vocab_size = len(sorted(set(input_text)))       # they cast again to a list\n",
    "\n",
    "elif Tokenizer == 2:\n",
    "    \n",
    "    class simpleTokenizer:\n",
    "        def __init__(self):\n",
    "            self.token_to_id = {}  # Generic: works for both char_to_emb and word_to_id\n",
    "            self.id_to_token = {}  # Generic: works for both emb_to_char and id_to_word\n",
    "    \n",
    "        def fit(self, text):\n",
    "            # For character tokenization, get all unique characters\n",
    "            #unique_tokens = set(text)  # unique_chars or unique_words based on the input\n",
    "            words = text.split()\n",
    "            unique_tokens = set(words)\n",
    "            for i, token in enumerate(sorted(unique_tokens)):\n",
    "                self.token_to_id[token] = i\n",
    "                self.id_to_token[i] = token\n",
    "    \n",
    "        def encode(self, text):\n",
    "            # For character tokenization, iterate over characters\n",
    "            words = text.split() # for words\n",
    "            return [self.token_to_id.get(token, -1) for token in words]\n",
    "    \n",
    "        def decode(self, ids):\n",
    "            # Decode a list of ids back to text\n",
    "            return ' '.join(self.id_to_token.get(id, '') for id in ids)\n",
    "    \n",
    "    encoding = simpleTokenizer()\n",
    "    encoding.fit(input_text)\n",
    "    vocab_size = len(set(input_text.split()))\n",
    "    \n",
    "else:\n",
    "    print(\"Invalid Selection\")"
   ]
  },
  {
   "cell_type": "code",
   "execution_count": null,
   "metadata": {
    "id": "Pzyq-E2WaeYk",
    "scrolled": true
   },
   "outputs": [],
   "source": [
    "\n",
    "# Define training and test splits\n",
    "data = torch.tensor(encoding.encode(input_text), dtype = torch.int32)\n",
    "\n",
    "# 90% train, 10% val\n",
    "training_data = data[:math.floor(train_val_split*len(data))]\n",
    "val_data = data[math.floor(train_val_split*len(data)):]\n",
    "\n",
    "# Generate input-target pairs for a randomly selected batch of data\n",
    "# Prepares minibatches of sequential data\n"
   ]
  },
  {
   "cell_type": "code",
   "execution_count": null,
   "metadata": {
    "colab": {
     "base_uri": "https://localhost:8080/"
    },
    "id": "eEdo_PPQagVO",
    "outputId": "a67a4e13-d2e8-4bbf-ea8a-f97a1b04c810",
    "scrolled": true
   },
   "outputs": [],
   "source": [
    "\n",
    "def getRandomBatch(train_or_val):\n",
    "  if train_or_val == 'train':\n",
    "    data = training_data\n",
    "  else:\n",
    "    data = val_data\n",
    "  random_indexes = torch.randint(0, (len(data) - block_size), (batch_size,))    # randomly obtain (batch size) 'start' places for the blocks in a batch\n",
    "  input = torch.stack([data[i:i+block_size] for i in random_indexes])           # stack batches on top of eachother\n",
    "  target = torch.stack([data[i+1:i+block_size+1] for i in random_indexes])      # target in this instance is defined as the character immediately following the prev.\n",
    "  input, target = input.to(device), target.to(device).long()    # Needed for CPU/GPU \n",
    "  return input, target\n",
    "\n",
    "getRandomBatch('train')\n"
   ]
  },
  {
   "cell_type": "code",
   "execution_count": null,
   "metadata": {
    "id": "vbdSPk61ais5",
    "scrolled": true
   },
   "outputs": [],
   "source": [
    "# Evaluates average loss of model for both training and validation data splits\n",
    "\n",
    "@torch.no_grad()\n",
    "def estimate_loss():\n",
    "    out = {}\n",
    "    model.eval()\n",
    "    for split in ['train', 'val']:\n",
    "        losses = torch.zeros(eval_iters)\n",
    "        for k in range(eval_iters):\n",
    "            X, Y = getRandomBatch(split)\n",
    "            logits, loss = model(X, Y)\n",
    "            losses[k] = loss.item()\n",
    "        out[split] = losses.mean()\n",
    "    model.train()\n",
    "    return out\n"
   ]
  },
  {
   "cell_type": "code",
   "execution_count": null,
   "metadata": {
    "id": "BIIa8qEoalXs",
    "scrolled": true
   },
   "outputs": [],
   "source": [
    "class Head(nn.Module):\n",
    "    \"\"\" one head of self-attention \"\"\"\n",
    "\n",
    "    def __init__(self, head_size):\n",
    "        super().__init__()\n",
    "        self.key = nn.Linear(n_embd, head_size, bias=False)   # Essentially making K' and then sub K' of i to n_head matrices with dim \"sequence\" x n_embd\n",
    "        self.query = nn.Linear(n_embd, head_size, bias=False) # Essentially making Q' and then sub Q' of i to n_head matrices with dim \"sequence\" x n_embd\n",
    "        self.value = nn.Linear(n_embd, head_size, bias=False) # Essentially making V' and then sub V' of i to n_head matrices with dim \"sequence\" x n_embd\n",
    "        self.register_buffer('tril', torch.tril(torch.ones(block_size, block_size))) # Used later for masking -inf to zero with softmax\n",
    "\n",
    "        self.dropout = nn.Dropout(dropout)\n",
    "\n",
    "    def forward(self, x):\n",
    "        # input of size (batch, time-step, channels)\n",
    "        # output of size (batch, time-step, head size)\n",
    "        B,T,C = x.shape\n",
    "        k = self.key(x)   # (B,T,hs)\n",
    "        q = self.query(x) # (B,T,hs)\n",
    "        # compute attention scores (\"affinities\")\n",
    "        wei = q @ k.transpose(-2,-1) * k.shape[-1]**-0.5 # (B, T, hs) @ (B, hs, T) -> (B, T, T)\n",
    "        wei = wei.masked_fill(self.tril[:T, :T] == 0, float('-inf')) # (B, T, T)\n",
    "        wei = F.softmax(wei, dim=-1) # (B, T, T) # making it a causal system\n",
    "        wei = self.dropout(wei) # Preventing overfitting I guess\n",
    "        # perform the weighted aggregation of the values\n",
    "        v = self.value(x) # (B,T,hs)\n",
    "        out = wei @ v # (B, T, T) @ (B, T, hs) -> (B, T, hs)\n",
    "        return out # out is\n"
   ]
  },
  {
   "cell_type": "code",
   "execution_count": null,
   "metadata": {
    "id": "mflf-S3FancF",
    "scrolled": true
   },
   "outputs": [],
   "source": [
    "class MultiHeadAttention(nn.Module):\n",
    "    \"\"\" multiple heads of self-attention in parallel \"\"\"\n",
    "\n",
    "    def __init__(self, num_heads, head_size):\n",
    "        super().__init__()\n",
    "        self.heads = nn.ModuleList([Head(head_size) for _ in range(num_heads)])\n",
    "        self.proj = nn.Linear(head_size * num_heads, n_embd)\n",
    "        self.dropout = nn.Dropout(dropout)\n",
    "\n",
    "    def forward(self, x):\n",
    "        out = torch.cat([h(x) for h in self.heads], dim=-1)\n",
    "        out = self.dropout(self.proj(out))\n",
    "        return out\n"
   ]
  },
  {
   "cell_type": "code",
   "execution_count": null,
   "metadata": {
    "id": "rOBbv8dKao_Z",
    "scrolled": true
   },
   "outputs": [],
   "source": [
    "class FeedFoward(nn.Module):\n",
    "    \"\"\" a simple linear layer followed by a non-linearity \"\"\"\n",
    "\n",
    "    def __init__(self, n_embd):\n",
    "        super().__init__()\n",
    "        self.net = nn.Sequential(\n",
    "            nn.Linear(n_embd, 4 * n_embd), \n",
    "            nn.ReLU(),  # ReLU, but GELU is used in BERT\n",
    "            nn.Linear(4 * n_embd, n_embd),\n",
    "            nn.Dropout(dropout), #dropout\n",
    "        )\n",
    "\n",
    "    def forward(self, x):\n",
    "        return self.net(x)\n",
    "\n"
   ]
  },
  {
   "cell_type": "code",
   "execution_count": null,
   "metadata": {
    "id": "GXqlQLfbark3",
    "scrolled": true
   },
   "outputs": [],
   "source": [
    "class Block(nn.Module):\n",
    "    \"\"\" Transformer block: communication followed by computation \"\"\"\n",
    "\n",
    "    def __init__(self, n_embd, n_head):\n",
    "        # n_embd: embedding dimension, n_head: the number of heads we'd like\n",
    "        super().__init__()\n",
    "        head_size = n_embd // n_head\n",
    "        self.sa = MultiHeadAttention(n_head, head_size)\n",
    "        self.ffwd = FeedFoward(n_embd)\n",
    "        self.ln1 = nn.LayerNorm(n_embd)\n",
    "        self.ln2 = nn.LayerNorm(n_embd)\n",
    "\n",
    "    def forward(self, x):\n",
    "        x = x + self.sa(self.ln1(x))\n",
    "        x = x + self.ffwd(self.ln2(x))\n",
    "        return x\n",
    "\n"
   ]
  },
  {
   "cell_type": "code",
   "execution_count": null,
   "metadata": {
    "id": "bktuvuOUatiA",
    "scrolled": true
   },
   "outputs": [],
   "source": [
    "# super simple bigram model\n",
    "class BigramLanguageModel(nn.Module):\n",
    "\n",
    "    def __init__(self):\n",
    "        super().__init__()\n",
    "        # Use vocab_size to correctly initialize embedding tables and other parameters\n",
    "        # each token directly reads off the logits for the next token from a lookup table\n",
    "        self.token_embedding_table = nn.Embedding(vocab_size, n_embd)\n",
    "        self.position_embedding_table = nn.Embedding(block_size, n_embd)\n",
    "        self.blocks = nn.Sequential(*[Block(n_embd, n_head=n_head) for _ in range(n_layer)])\n",
    "        self.ln_f = nn.LayerNorm(n_embd) # final layer norm\n",
    "        self.lm_head = nn.Linear(n_embd, vocab_size)\n",
    "\n",
    "    def forward(self, idx, targets=None, checkpointing=False):\n",
    "        B, T = idx.shape\n",
    "\n",
    "        # idx and targets are both (B,T) tensor of integers\n",
    "        tok_emb = self.token_embedding_table(idx) # (B,T,C)\n",
    "        pos_emb = self.position_embedding_table(torch.arange(T, device=device)) # (T,C)\n",
    "        x = tok_emb + pos_emb # (B,T,C)\n",
    "        x = x.to(device) if not checkpointing else x\n",
    "\n",
    "        for block in self.blocks:\n",
    "            if checkpointing:\n",
    "                # Move x to the GPU for processing this block\n",
    "                x = x.to(device)\n",
    "            x = block(x)\n",
    "            if checkpointing:\n",
    "                # Move x back to CPU to save GPU memory\n",
    "                x = x.cpu()\n",
    "\n",
    "        # Final layer norm and linear layers need to be on GPU\n",
    "        x = x.to(device)\n",
    "        x = self.ln_f(x)  # (B,T,C)\n",
    "        logits = self.lm_head(x)  # (B,T,vocab_size)\n",
    "\n",
    "        loss = None\n",
    "        if targets is not None:\n",
    "            # Move targets to GPU for loss calculation\n",
    "            targets = targets.to(device)\n",
    "            # Flatten logits and targets for cross-entropy loss\n",
    "            logits = logits.view(-1, logits.size(-1))\n",
    "            targets = targets.view(-1)\n",
    "            loss = F.cross_entropy(logits, targets)\n",
    "\n",
    "        return logits, loss\n",
    "     \n",
    "\n",
    "    def generate(self, idx, max_new_tokens):\n",
    "        # idx is (B, T) array of indices in the current context\n",
    "        for _ in range(max_new_tokens):\n",
    "            # crop idx to the last block_size tokens\n",
    "            idx_cond = idx[:, -block_size:]\n",
    "            # get the predictions\n",
    "            logits, loss = self(idx_cond)\n",
    "            # focus only on the last time step\n",
    "            logits = logits[:, -1, :] # becomes (B, C)\n",
    "            # apply softmax to get probabilities\n",
    "            probs = F.softmax(logits, dim=-1) # (B, C)\n",
    "            # sample from the distribution\n",
    "            idx_next = torch.multinomial(probs, num_samples=1) # (B, 1)\n",
    "            # append sampled index to the running sequence\n",
    "            idx = torch.cat((idx, idx_next), dim=1) # (B, T+1)\n",
    "        return idx\n"
   ]
  },
  {
   "cell_type": "code",
   "execution_count": null,
   "metadata": {
    "scrolled": true
   },
   "outputs": [],
   "source": [
    "torch.cuda.empty_cache()"
   ]
  },
  {
   "cell_type": "code",
   "execution_count": null,
   "metadata": {
    "scrolled": true
   },
   "outputs": [],
   "source": [
    "model = BigramLanguageModel()\n",
    "m = model.to(device)\n",
    "# print the number of parameters in the model\n",
    "print(sum(p.numel() for p in m.parameters())/1e6, 'M parameters')\n"
   ]
  },
  {
   "cell_type": "code",
   "execution_count": null,
   "metadata": {
    "scrolled": false
   },
   "outputs": [],
   "source": [
    "\n",
    "# create a PyTorch optimizer\n",
    "optimizer = torch.optim.AdamW(model.parameters(), lr=learning_rate)\n",
    "\n",
    "for iter in range(max_iters):\n",
    "    # every once in a while evaluate the loss on train and val sets\n",
    "    if iter % eval_interval == 0 or iter == max_iters - 1:\n",
    "        losses = estimate_loss()\n",
    "        now = datetime.now()\n",
    "        current_time = now.strftime(\"%H:%M:%S\")\n",
    "        print(\"Current Time =\", current_time)\n",
    "        print(f\"step {iter}: train loss {losses['train']:.4f}, val loss {losses['val']:.4f}\")\n",
    "\n",
    "    # sample a batch of data\n",
    "    xb, yb = getRandomBatch('train')\n",
    "\n",
    "    # evaluate the loss\n",
    "    logits, loss = model(xb, yb)\n",
    "    optimizer.zero_grad(set_to_none=True)\n",
    "    loss.backward()\n",
    "    optimizer.step()\n",
    "\n",
    "    if abs(losses['train'] - losses['val']) > 1:\n",
    "        print(f\"Stopping early at iteration {iter})\")\n",
    "        break\n"
   ]
  },
  {
   "cell_type": "code",
   "execution_count": null,
   "metadata": {
    "scrolled": true
   },
   "outputs": [],
   "source": [
    "# generate from the model\n",
    "context = torch.zeros((1, 1), dtype=torch.long, device=device)\n",
    "#encoded_text = encoding.encode(\"Left\")\n",
    "#context = torch.tensor([encoded_text], dtype=torch.long, device=device)\n",
    "gen_text = encoding.decode(m.generate(context, max_new_tokens=2000)[0].tolist())\n",
    "print(gen_text)"
   ]
  },
  {
   "cell_type": "code",
   "execution_count": null,
   "metadata": {},
   "outputs": [],
   "source": [
    "# Save the generated text to a file\n",
    "file_path = 'generated_text.txt'\n",
    "with open(file_path, 'w') as file:\n",
    "    file.write(gen_text)\n",
    "\n",
    "print(f\"Generated text saved to: {file_path}\")"
   ]
  }
 ],
 "metadata": {
  "colab": {
   "provenance": []
  },
  "kernelspec": {
   "display_name": "Python 3 (ipykernel)",
   "language": "python",
   "name": "python3"
  },
  "language_info": {
   "codemirror_mode": {
    "name": "ipython",
    "version": 3
   },
   "file_extension": ".py",
   "mimetype": "text/x-python",
   "name": "python",
   "nbconvert_exporter": "python",
   "pygments_lexer": "ipython3",
   "version": "3.9.13"
  }
 },
 "nbformat": 4,
 "nbformat_minor": 1
}
